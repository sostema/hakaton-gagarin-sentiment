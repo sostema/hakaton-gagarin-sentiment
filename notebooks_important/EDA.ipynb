{
 "cells": [
  {
   "cell_type": "code",
   "execution_count": 1,
   "metadata": {},
   "outputs": [],
   "source": [
    "import pandas as pd"
   ]
  },
  {
   "cell_type": "code",
   "execution_count": 57,
   "metadata": {},
   "outputs": [],
   "source": [
    "issuers_df = pd.read_excel(\"../data/issuers.xlsx\", index_col=0)\n",
    "mentions_df = pd.read_csv(\"../data/mentions.csv\", index_col=0)\n",
    "sentiment_df = pd.read_csv(\"../data/sentiment.csv\", index_col=0)\n",
    "names_and_synonyms_df = pd.read_excel(\"../data/names_n_synonyms.xlsx\")\n",
    "mentions_texts_df = pd.read_pickle(\"../data/mentions_texts.pkl\")\n",
    "sentiment_texts_df: pd.DataFrame = pd.read_pickle(\"../data/sentiment_texts.pkl\")"
   ]
  },
  {
   "cell_type": "code",
   "execution_count": 58,
   "metadata": {},
   "outputs": [],
   "source": [
    "names_and_synonyms_df[\"NAMINGS\"] = names_and_synonyms_df.iloc[:, 3:].apply(\n",
    "    lambda row: row.dropna().tolist(), axis=1\n",
    ")\n",
    "names_and_synonyms_df = names_and_synonyms_df.drop(columns=names_and_synonyms_df.columns[2:-1])\n",
    "names_and_synonyms_df = names_and_synonyms_df.set_index(\"issuerid\")"
   ]
  },
  {
   "cell_type": "code",
   "execution_count": 34,
   "metadata": {},
   "outputs": [],
   "source": [
    "sentiment_texts_df = sentiment_texts_df[sentiment_texts_df.SentimentScore > 0]"
   ]
  },
  {
   "cell_type": "code",
   "execution_count": null,
   "metadata": {},
   "outputs": [],
   "source": []
  }
 ],
 "metadata": {
  "kernelspec": {
   "display_name": ".venv",
   "language": "python",
   "name": "python3"
  },
  "language_info": {
   "codemirror_mode": {
    "name": "ipython",
    "version": 3
   },
   "file_extension": ".py",
   "mimetype": "text/x-python",
   "name": "python",
   "nbconvert_exporter": "python",
   "pygments_lexer": "ipython3",
   "version": "3.10.14"
  }
 },
 "nbformat": 4,
 "nbformat_minor": 2
}
